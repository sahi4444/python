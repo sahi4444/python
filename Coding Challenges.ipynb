{
 "cells": [
  {
   "cell_type": "markdown",
   "id": "0c1fc2d0",
   "metadata": {},
   "source": [
    "# Max Non Adjacent Sum"
   ]
  },
  {
   "cell_type": "markdown",
   "id": "3ab53238",
   "metadata": {},
   "source": [
    "Given a list of integers, write a function that returns the largest sum of non-adjacent numbers. Numbers can be 0 or negative.\n",
    "\n",
    "For example, [2, 4, 6, 2, 5] should return 13, since we pick 2, 6, and 5. [5, 1, 1, 5] should return 10, since we pick 5 and 5."
   ]
  },
  {
   "cell_type": "code",
   "execution_count": 5,
   "id": "c2ce9e8e",
   "metadata": {
    "ExecuteTime": {
     "end_time": "2024-05-17T09:34:19.464963Z",
     "start_time": "2024-05-17T09:34:19.457785Z"
    }
   },
   "outputs": [],
   "source": [
    "ip1=[2, 4, 6, 2, 5]"
   ]
  },
  {
   "cell_type": "code",
   "execution_count": 14,
   "id": "4dcf4fbe",
   "metadata": {
    "ExecuteTime": {
     "end_time": "2024-05-17T09:38:12.523773Z",
     "start_time": "2024-05-17T09:38:12.509113Z"
    }
   },
   "outputs": [],
   "source": [
    "ip2=[5, 1, 1, 5]"
   ]
  },
  {
   "cell_type": "code",
   "execution_count": 11,
   "id": "6e276da0",
   "metadata": {
    "ExecuteTime": {
     "end_time": "2024-05-17T09:37:59.918980Z",
     "start_time": "2024-05-17T09:37:59.903360Z"
    }
   },
   "outputs": [],
   "source": [
    "def maxnonadsum(ip):\n",
    "    if len(ip)==0:\n",
    "        return 0\n",
    "    else:\n",
    "        incl=0\n",
    "        excl=0\n",
    "        for i in ip:\n",
    "            new_incl=excl+i\n",
    "            new_excl=max(incl,excl)\n",
    "            \n",
    "            excl=new_excl\n",
    "            incl=new_incl\n",
    "        return max(incl,excl)"
   ]
  },
  {
   "cell_type": "code",
   "execution_count": 15,
   "id": "4c75923b",
   "metadata": {
    "ExecuteTime": {
     "end_time": "2024-05-17T09:38:14.737982Z",
     "start_time": "2024-05-17T09:38:14.731452Z"
    }
   },
   "outputs": [
    {
     "data": {
      "text/plain": [
       "10"
      ]
     },
     "execution_count": 15,
     "metadata": {},
     "output_type": "execute_result"
    }
   ],
   "source": [
    "maxnonadsum(ip2)"
   ]
  },
  {
   "cell_type": "markdown",
   "id": "c60521f3",
   "metadata": {},
   "source": [
    "# Decodecount"
   ]
  },
  {
   "cell_type": "markdown",
   "id": "97324b00",
   "metadata": {
    "ExecuteTime": {
     "end_time": "2024-05-17T09:41:20.986770Z",
     "start_time": "2024-05-17T09:41:20.962252Z"
    }
   },
   "source": [
    "Given the mapping a = 1, b = 2, ... z = 26, and an encoded message, count the number of ways it can be decoded.\n",
    "\n",
    "For example, the message '111' would give 3, since it could be decoded as 'aaa', 'ka', and 'ak'.\n",
    "\n",
    "You can assume that the messages are decodable. For example, '001' is not allowed."
   ]
  },
  {
   "cell_type": "code",
   "execution_count": 17,
   "id": "55947084",
   "metadata": {
    "ExecuteTime": {
     "end_time": "2024-05-17T09:41:34.853566Z",
     "start_time": "2024-05-17T09:41:34.845655Z"
    }
   },
   "outputs": [],
   "source": [
    "ip=111\n",
    "ip=str(ip)\n",
    "ip[-2:0]"
   ]
  },
  {
   "cell_type": "code",
   "execution_count": 18,
   "id": "ee81477b",
   "metadata": {
    "ExecuteTime": {
     "end_time": "2024-05-17T09:41:51.447707Z",
     "start_time": "2024-05-17T09:41:51.429586Z"
    }
   },
   "outputs": [],
   "source": [
    "def decodecount(ip):\n",
    "    n=len(str(ip))\n",
    "    ip=str(ip)\n",
    "    if n==0:\n",
    "        return 0\n",
    "    dp = [0]*(n+1)\n",
    "    dp[0]=dp[1]=1\n",
    "    for i in range(2,n+1):\n",
    "        if 1 <= int(ip[i-1]) and int(ip[i-1]) <= 9:\n",
    "            dp[i]=dp[i]+dp[i-1]\n",
    "            #print(i,dp[i],dp[i-1])\n",
    "        if 10<=int(ip[i-2:i])<=26:\n",
    "            dp[i]=dp[i]+dp[i-2]\n",
    "            #print(i,dp[i],dp[i-2])\n",
    "    return dp[n]"
   ]
  },
  {
   "cell_type": "code",
   "execution_count": 19,
   "id": "f702371b",
   "metadata": {
    "ExecuteTime": {
     "end_time": "2024-05-17T09:41:57.184001Z",
     "start_time": "2024-05-17T09:41:57.175999Z"
    }
   },
   "outputs": [
    {
     "data": {
      "text/plain": [
       "3"
      ]
     },
     "execution_count": 19,
     "metadata": {},
     "output_type": "execute_result"
    }
   ],
   "source": [
    "decodecount(ip)"
   ]
  },
  {
   "cell_type": "markdown",
   "id": "264c4742",
   "metadata": {},
   "source": [
    "# count combinations"
   ]
  },
  {
   "cell_type": "code",
   "execution_count": 20,
   "id": "8f99773c",
   "metadata": {
    "ExecuteTime": {
     "end_time": "2024-05-17T09:42:58.095482Z",
     "start_time": "2024-05-17T09:42:58.084498Z"
    }
   },
   "outputs": [],
   "source": [
    "word_list = [\"apple\", \"pen\", \"applepen\", \"pine\", \"pineapple\",\"pin\"]\n",
    "original_string = \"pineapplepenapple\""
   ]
  },
  {
   "cell_type": "code",
   "execution_count": 21,
   "id": "030a0a1f",
   "metadata": {
    "ExecuteTime": {
     "end_time": "2024-05-17T09:43:03.450382Z",
     "start_time": "2024-05-17T09:43:03.432842Z"
    }
   },
   "outputs": [],
   "source": [
    "def count_combinations(original, words):\n",
    "    memo = {}\n",
    "\n",
    "    def helper(s):\n",
    "        if s in memo:\n",
    "            return memo[s]\n",
    "        if not s:\n",
    "            return 1\n",
    "\n",
    "        count = 0\n",
    "        for word in words:\n",
    "            if s.startswith(word):\n",
    "                count += helper(s[len(word):])\n",
    "                print(word,s[len(word):])\n",
    "        memo[s] = count\n",
    "        return count\n",
    "\n",
    "    return helper(original)"
   ]
  },
  {
   "cell_type": "code",
   "execution_count": 22,
   "id": "128c35c1",
   "metadata": {
    "ExecuteTime": {
     "end_time": "2024-05-17T09:43:14.095439Z",
     "start_time": "2024-05-17T09:43:14.081821Z"
    }
   },
   "outputs": [
    {
     "name": "stdout",
     "output_type": "stream",
     "text": [
      "apple \n",
      "pen apple\n",
      "apple penapple\n",
      "applepen apple\n",
      "pine applepenapple\n",
      "pineapple penapple\n",
      "pin eapplepenapple\n"
     ]
    },
    {
     "data": {
      "text/plain": [
       "3"
      ]
     },
     "execution_count": 22,
     "metadata": {},
     "output_type": "execute_result"
    }
   ],
   "source": [
    "count_combinations(original_string,word_list)"
   ]
  },
  {
   "cell_type": "markdown",
   "id": "baf070b3",
   "metadata": {},
   "source": [
    "# Height volume"
   ]
  },
  {
   "attachments": {
    "Untitled_picture.png": {
     "image/png": "[encoded data removed]"
    }
   },
   "cell_type": "markdown",
   "id": "7c4a60b5",
   "metadata": {},
   "source": [
    "![Untitled_picture.png](attachment:Untitled_picture.png)"
   ]
  },
  {
   "cell_type": "code",
   "execution_count": 24,
   "id": "a18cc416",
   "metadata": {
    "ExecuteTime": {
     "end_time": "2024-05-17T10:42:44.533596Z",
     "start_time": "2024-05-17T10:42:44.523661Z"
    }
   },
   "outputs": [],
   "source": [
    "height_list=[5,3,6,3,9,3]"
   ]
  },
  {
   "cell_type": "code",
   "execution_count": 25,
   "id": "375f5aa2",
   "metadata": {
    "ExecuteTime": {
     "end_time": "2024-05-17T10:42:44.862860Z",
     "start_time": "2024-05-17T10:42:44.829907Z"
    }
   },
   "outputs": [
    {
     "name": "stdout",
     "output_type": "stream",
     "text": [
      "[[1, 5]]\n",
      "[[1, 5], [2, 3]]\n",
      "[[1, 5], [2, 3], [3, 6]]\n",
      "[[1, 5], [2, 3], [3, 6], [4, 3]]\n",
      "[[1, 5], [2, 3], [3, 6], [4, 3], [5, 9]]\n",
      "[[1, 5], [2, 3], [3, 6], [4, 3], [5, 9], [6, 3]]\n",
      "[[1, 5], [2, 3]] [1, 5] [2, 3] 1 3 3\n",
      "[[1, 5], [3, 6]] [1, 5] [3, 6] 2 5 10\n",
      "[[1, 5], [4, 3]] [1, 5] [4, 3] 3 3 9\n",
      "[[1, 5], [5, 9]] [1, 5] [5, 9] 4 5 20\n",
      "[[1, 5], [6, 3]] [1, 5] [6, 3] 5 3 15\n",
      "[[2, 3], [3, 6]] [2, 3] [3, 6] 1 3 3\n",
      "[[2, 3], [4, 3]] [2, 3] [4, 3] 2 3 6\n",
      "[[2, 3], [5, 9]] [2, 3] [5, 9] 3 3 9\n",
      "[[2, 3], [6, 3]] [2, 3] [6, 3] 4 3 12\n",
      "[[3, 6], [4, 3]] [3, 6] [4, 3] 1 3 3\n",
      "[[3, 6], [5, 9]] [3, 6] [5, 9] 2 6 12\n",
      "[[3, 6], [6, 3]] [3, 6] [6, 3] 3 3 9\n",
      "[[4, 3], [5, 9]] [4, 3] [5, 9] 1 3 3\n",
      "[[4, 3], [6, 3]] [4, 3] [6, 3] 2 3 6\n",
      "[[5, 9], [6, 3]] [5, 9] [6, 3] 1 3 3\n"
     ]
    }
   ],
   "source": [
    "list = []\n",
    "for i in range(len(height_list)):\n",
    "    list.append([i+1,height_list[i]])\n",
    "    print(list)     \n",
    "pairs=[]\n",
    "for i in range(len(list)):\n",
    "    for j in range(i+1,len(list)):\n",
    "        pairs.append([list[i],list[j]])\n",
    "for i in range(len(pairs)):\n",
    "    print(pairs[i],pairs[i][0],pairs[i][1],pairs[i][1][0]-pairs[i][0][0],min(pairs[i][1][1],pairs[i][0][1]),\\\n",
    "         (pairs[i][1][0]-pairs[i][0][0])*min(pairs[i][1][1],pairs[i][0][1]))\n",
    "areas=[]\n",
    "for i in range(len(pairs)):\n",
    "    areas.append((pairs[i][1][0]-pairs[i][0][0])*min(pairs[i][1][1],pairs[i][0][1]))\n",
    "    \n",
    "areas.sort()\n",
    "\n",
    "areas[len(areas)-1]\n",
    "\n",
    "def maxvolume(height_list):\n",
    "    list = []\n",
    "    for i in range(len(height_list)):\n",
    "        list.append([i+1,height_list[i]])\n",
    "    pairs=[]\n",
    "    for i in range(len(list)):\n",
    "        for j in range(i+1,len(list)):\n",
    "            pairs.append([list[i],list[j]])\n",
    "    areas=[]\n",
    "    for i in range(len(pairs)):\n",
    "        areas.append((pairs[i][1][0]-pairs[i][0][0])*min(pairs[i][1][1],pairs[i][0][1]))\n",
    "    areas.sort()\n",
    "    return areas[len(areas)-1]"
   ]
  },
  {
   "cell_type": "code",
   "execution_count": 26,
   "id": "0cb32eb0",
   "metadata": {
    "ExecuteTime": {
     "end_time": "2024-05-17T10:42:47.640281Z",
     "start_time": "2024-05-17T10:42:47.632208Z"
    }
   },
   "outputs": [
    {
     "data": {
      "text/plain": [
       "20"
      ]
     },
     "execution_count": 26,
     "metadata": {},
     "output_type": "execute_result"
    }
   ],
   "source": [
    "maxvolume(height_list)"
   ]
  },
  {
   "cell_type": "markdown",
   "id": "7817f8a8",
   "metadata": {
    "ExecuteTime": {
     "end_time": "2024-05-17T10:42:52.796183Z",
     "start_time": "2024-05-17T10:42:52.785315Z"
    }
   },
   "source": [
    "### Optimisation"
   ]
  },
  {
   "cell_type": "markdown",
   "id": "53c67eb3",
   "metadata": {},
   "source": [
    "Given the dimensions of cylindrical water tank, spherical solid balls and the amount of water present in the tank check if water tank will overflow when balls are dipped in the water tank. <br>\n",
    "input : H = 10, r =  5\n",
    "        h = 5\n",
    "        N = 2, R = 2"
   ]
  },
  {
   "cell_type": "code",
   "execution_count": 28,
   "id": "322c5525",
   "metadata": {
    "ExecuteTime": {
     "end_time": "2024-05-17T10:43:16.057958Z",
     "start_time": "2024-05-17T10:43:16.033525Z"
    }
   },
   "outputs": [],
   "source": [
    "def overflow(H,r,h,N,R):\n",
    "    cylinder_volume=3.14*r*r*H\n",
    "    water_volume=3.14*r*r*h\n",
    "    ball_volume=N*3.14*R*R*R*(4/3)\n",
    "    if cylinder_volume-(water_volume+ball_volume)>0:\n",
    "        return 'No'\n",
    "    else:\n",
    "        return 'Yes'"
   ]
  },
  {
   "cell_type": "code",
   "execution_count": 29,
   "id": "9ae63a02",
   "metadata": {
    "ExecuteTime": {
     "end_time": "2024-05-17T10:43:20.174053Z",
     "start_time": "2024-05-17T10:43:20.146227Z"
    }
   },
   "outputs": [
    {
     "data": {
      "text/plain": [
       "'No'"
      ]
     },
     "execution_count": 29,
     "metadata": {},
     "output_type": "execute_result"
    }
   ],
   "source": [
    "overflow(10,5,5,2,2)"
   ]
  },
  {
   "cell_type": "markdown",
   "id": "e39a710e",
   "metadata": {},
   "source": [
    "# Kedane's Algorithm"
   ]
  },
  {
   "cell_type": "code",
   "execution_count": 30,
   "id": "bf84a0d0",
   "metadata": {
    "ExecuteTime": {
     "end_time": "2024-05-17T11:32:47.935740Z",
     "start_time": "2024-05-17T11:32:47.919712Z"
    }
   },
   "outputs": [],
   "source": [
    "A=[-2, -3, 4, -1, -2, 1, 5, -3]"
   ]
  },
  {
   "cell_type": "code",
   "execution_count": 31,
   "id": "0be36266",
   "metadata": {
    "ExecuteTime": {
     "end_time": "2024-05-17T11:32:52.215330Z",
     "start_time": "2024-05-17T11:32:52.202314Z"
    }
   },
   "outputs": [],
   "source": [
    "def kedane(a):\n",
    "    max_local=max_global=A[0]\n",
    "    start=0\n",
    "    end=0\n",
    "    s=0\n",
    "    for i in range(1,len(A)):\n",
    "        max_local=max(max_local+A[i],A[i])\n",
    "        if max_local>max_global:\n",
    "            max_global=max_local\n",
    "    return max_global"
   ]
  },
  {
   "cell_type": "code",
   "execution_count": 32,
   "id": "84a65667",
   "metadata": {
    "ExecuteTime": {
     "end_time": "2024-05-17T11:32:56.626606Z",
     "start_time": "2024-05-17T11:32:56.616631Z"
    }
   },
   "outputs": [
    {
     "data": {
      "text/plain": [
       "7"
      ]
     },
     "execution_count": 32,
     "metadata": {},
     "output_type": "execute_result"
    }
   ],
   "source": [
    "kedane(A)"
   ]
  },
  {
   "cell_type": "code",
   "execution_count": 33,
   "id": "68f9279e",
   "metadata": {
    "ExecuteTime": {
     "end_time": "2024-05-17T11:36:03.819818Z",
     "start_time": "2024-05-17T11:36:03.804552Z"
    }
   },
   "outputs": [],
   "source": [
    "def kedane(A):\n",
    "    max_local = max_global = A[0]\n",
    "    start = end = 0\n",
    "    temp_start = 0  # Temporary start index for current max_local\n",
    "    for i in range(1, len(A)):\n",
    "        if A[i] > max_local + A[i]:\n",
    "            temp_start = i\n",
    "            max_local = A[i]\n",
    "        else:\n",
    "            max_local=max_local+ A[i]\n",
    "\n",
    "        if max_local > max_global:\n",
    "            max_global = max_local\n",
    "            start = temp_start\n",
    "            end = i\n",
    "        print('i='+str(i),'A[i]='+str(A[i]),'max_local='+str(max_local),'max_global='+str(max_global),'temp_start='+str(temp_start),'start='+str(start),'end='+str(end))\n",
    "\n",
    "    return max_global, start, end"
   ]
  },
  {
   "cell_type": "code",
   "execution_count": 34,
   "id": "30664111",
   "metadata": {
    "ExecuteTime": {
     "end_time": "2024-05-17T11:36:09.867007Z",
     "start_time": "2024-05-17T11:36:09.849881Z"
    }
   },
   "outputs": [
    {
     "name": "stdout",
     "output_type": "stream",
     "text": [
      "i=1 A[i]=-3 max_local=-3 max_global=-2 temp_start=1 start=0 end=0\n",
      "i=2 A[i]=4 max_local=4 max_global=4 temp_start=2 start=2 end=2\n",
      "i=3 A[i]=-1 max_local=3 max_global=4 temp_start=2 start=2 end=2\n",
      "i=4 A[i]=-2 max_local=1 max_global=4 temp_start=2 start=2 end=2\n",
      "i=5 A[i]=1 max_local=2 max_global=4 temp_start=2 start=2 end=2\n",
      "i=6 A[i]=5 max_local=7 max_global=7 temp_start=2 start=2 end=6\n",
      "i=7 A[i]=-3 max_local=4 max_global=7 temp_start=2 start=2 end=6\n"
     ]
    },
    {
     "data": {
      "text/plain": [
       "(7, 2, 6)"
      ]
     },
     "execution_count": 34,
     "metadata": {},
     "output_type": "execute_result"
    }
   ],
   "source": [
    "kedane(A)"
   ]
  },
  {
   "cell_type": "markdown",
   "id": "c53ef94d",
   "metadata": {},
   "source": [
    "# Longest palindromic substring"
   ]
  },
  {
   "cell_type": "code",
   "execution_count": 35,
   "id": "a2f2fd14",
   "metadata": {
    "ExecuteTime": {
     "end_time": "2024-05-17T11:39:09.549272Z",
     "start_time": "2024-05-17T11:39:09.541152Z"
    }
   },
   "outputs": [],
   "source": [
    "def strfunc(a):\n",
    "    lst=[]\n",
    "    for i in range(len(a)):\n",
    "        for j in range(i,len(a)+1):\n",
    "            if a[i:j]==a[i:j][::-1] and len(a[i:j])>0:\n",
    "                lst.append(a[i:j])\n",
    "    #print(lst)\n",
    "    x=lst[0]\n",
    "    for i in range(1,len(lst)):\n",
    "        #print(lst[i])\n",
    "        if len(lst[i])>len(x):\n",
    "            x=lst[i]\n",
    "\n",
    "    print('x is ',x)"
   ]
  },
  {
   "cell_type": "code",
   "execution_count": 36,
   "id": "0a00ac9f",
   "metadata": {
    "ExecuteTime": {
     "end_time": "2024-05-17T11:39:29.784744Z",
     "start_time": "2024-05-17T11:39:29.776845Z"
    }
   },
   "outputs": [],
   "source": [
    "def palfun(a):\n",
    "    res=\"\"\n",
    "    reslen=0\n",
    "    for i in range(len(a)):\n",
    "        l,r=i,i\n",
    "        while l>=0 and r<len(a) and a[l]==a[r]:\n",
    "            if (r-l+1)>reslen:\n",
    "                res=a[l:r+1]\n",
    "                reslen=r-l+1\n",
    "            print(i,r,l,a[l:r+1])\n",
    "            l=l-1\n",
    "            r=r+1\n",
    "        #print(reslen)\n",
    "        l,r=i,i+1\n",
    "        while l>=0 and r<len(a) and a[l]==a[r]:\n",
    "            if (r-l+1)>reslen:\n",
    "                res=a[l:r+1]\n",
    "                reslen=r-l+1\n",
    "            print(i,l,r,a[l:r+1])\n",
    "            l=l-1\n",
    "            r=r+1\n",
    "    return res"
   ]
  },
  {
   "cell_type": "markdown",
   "id": "992b2ac4",
   "metadata": {},
   "source": [
    "# Product of list except i"
   ]
  },
  {
   "cell_type": "code",
   "execution_count": 37,
   "id": "b4ec6648",
   "metadata": {
    "ExecuteTime": {
     "end_time": "2024-05-17T11:39:58.364285Z",
     "start_time": "2024-05-17T11:39:58.359261Z"
    }
   },
   "outputs": [],
   "source": [
    "def prodxcpt(lst):\n",
    "    res=[]\n",
    "    prod=1\n",
    "    for i in lst:\n",
    "        prod=prod*i\n",
    "    for i in lst:\n",
    "        res.append(prod/i)\n",
    "    return res"
   ]
  },
  {
   "cell_type": "code",
   "execution_count": 38,
   "id": "135751dd",
   "metadata": {
    "ExecuteTime": {
     "end_time": "2024-05-17T11:40:02.717960Z",
     "start_time": "2024-05-17T11:40:02.711173Z"
    }
   },
   "outputs": [
    {
     "data": {
      "text/plain": [
       "[120.0, 60.0, 40.0, 30.0, 24.0]"
      ]
     },
     "execution_count": 38,
     "metadata": {},
     "output_type": "execute_result"
    }
   ],
   "source": [
    "prodxcpt([1, 2, 3, 4, 5])"
   ]
  },
  {
   "cell_type": "code",
   "execution_count": 39,
   "id": "740dd0cc",
   "metadata": {
    "ExecuteTime": {
     "end_time": "2024-05-17T11:40:22.268047Z",
     "start_time": "2024-05-17T11:40:22.257174Z"
    }
   },
   "outputs": [],
   "source": [
    "def prodxcpt(lst):\n",
    "    res=[]\n",
    "    for i in range(len(lst)):\n",
    "        temp_lst=lst[:i] + lst[i+1 :]\n",
    "        #print(temp_lst)\n",
    "        prod=1\n",
    "        for j in temp_lst:\n",
    "            prod=prod*j\n",
    "        res.append(prod)\n",
    "    return res"
   ]
  },
  {
   "cell_type": "code",
   "execution_count": 40,
   "id": "14c0c720",
   "metadata": {
    "ExecuteTime": {
     "end_time": "2024-05-17T11:40:28.351347Z",
     "start_time": "2024-05-17T11:40:28.340422Z"
    }
   },
   "outputs": [
    {
     "data": {
      "text/plain": [
       "[120, 60, 40, 30, 24]"
      ]
     },
     "execution_count": 40,
     "metadata": {},
     "output_type": "execute_result"
    }
   ],
   "source": [
    "prodxcpt([1, 2, 3, 4, 5])"
   ]
  },
  {
   "cell_type": "code",
   "execution_count": 41,
   "id": "a5a3ad50",
   "metadata": {
    "ExecuteTime": {
     "end_time": "2024-05-17T11:40:44.600050Z",
     "start_time": "2024-05-17T11:40:44.584968Z"
    }
   },
   "outputs": [],
   "source": [
    "def prdxcptn(lst):\n",
    "    n=len(lst)\n",
    "    res=[1]*n\n",
    "    left=[1]*n\n",
    "    right=[1]*n\n",
    "    for i in range(1,n):\n",
    "        left[i]=left[i-1]*lst[i-1]\n",
    "    for i in range(n-2,-1,-1):\n",
    "        right[i]=right[i+1]*lst[i+1]\n",
    "    for i in range(n):\n",
    "        res[i]=left[i]*right[i]\n",
    "    print(left)\n",
    "    print(right)\n",
    "    return res"
   ]
  },
  {
   "cell_type": "code",
   "execution_count": 42,
   "id": "e4da41cf",
   "metadata": {
    "ExecuteTime": {
     "end_time": "2024-05-17T11:40:47.924271Z",
     "start_time": "2024-05-17T11:40:47.918264Z"
    }
   },
   "outputs": [
    {
     "name": "stdout",
     "output_type": "stream",
     "text": [
      "[1, 1, 2, 6, 24]\n",
      "[120, 60, 20, 5, 1]\n"
     ]
    },
    {
     "data": {
      "text/plain": [
       "[120, 60, 40, 30, 24]"
      ]
     },
     "execution_count": 42,
     "metadata": {},
     "output_type": "execute_result"
    }
   ],
   "source": [
    "prdxcptn([1, 2, 3, 4, 5])"
   ]
  },
  {
   "cell_type": "markdown",
   "id": "ce9da98a",
   "metadata": {},
   "source": [
    "# Steps"
   ]
  },
  {
   "cell_type": "markdown",
   "id": "21aaa253",
   "metadata": {},
   "source": [
    "There exists a staircase with N steps, and you can climb up either 1 or 2 steps at a time. Given N, write a function that returns the number of unique ways you can climb the staircase. The order of the steps matters.\n",
    "\n",
    "For example, if N is 4, then there are 5 unique ways:\n",
    "\n",
    "1, 1, 1, 1\n",
    "2, 1, 1\n",
    "1, 2, 1\n",
    "1, 1, 2\n",
    "2, 2\n",
    "What if, instead of being able to climb 1 or 2 steps at a time, you could climb any number from a set of positive integers X? For example, if X = {1, 3, 5}, you could climb 1, 3, or 5 steps at a time."
   ]
  },
  {
   "cell_type": "code",
   "execution_count": 1,
   "id": "9de0d2f2",
   "metadata": {
    "ExecuteTime": {
     "end_time": "2024-05-28T10:04:22.053204Z",
     "start_time": "2024-05-28T10:04:22.040356Z"
    }
   },
   "outputs": [],
   "source": [
    "def stairs(n):\n",
    "    if n == 0:\n",
    "        return 0\n",
    "    elif n==1:\n",
    "        return 1\n",
    "    elif n==2:\n",
    "        return 2\n",
    "    else:\n",
    "        return stairs(n-1)+stairs(n-2)"
   ]
  },
  {
   "cell_type": "code",
   "execution_count": 2,
   "id": "34eab6eb",
   "metadata": {
    "ExecuteTime": {
     "end_time": "2024-05-28T10:04:31.284405Z",
     "start_time": "2024-05-28T10:04:31.260015Z"
    }
   },
   "outputs": [
    {
     "data": {
      "text/plain": [
       "5"
      ]
     },
     "execution_count": 2,
     "metadata": {},
     "output_type": "execute_result"
    }
   ],
   "source": [
    "stairs(4)"
   ]
  },
  {
   "cell_type": "markdown",
   "id": "0eaa135e",
   "metadata": {},
   "source": [
    "# String Manipulation"
   ]
  },
  {
   "cell_type": "markdown",
   "id": "80cd694d",
   "metadata": {},
   "source": [
    "Given an integer k and a string s, find the length of the longest substring that contains at most k distinct characters.\n",
    "\n",
    "For example, given s = \"abcba\" and k = 2, the longest substring with k distinct characters is \"bcb\"."
   ]
  },
  {
   "cell_type": "code",
   "execution_count": 4,
   "id": "b0d8f3d0",
   "metadata": {
    "ExecuteTime": {
     "end_time": "2024-07-26T20:54:42.777683Z",
     "start_time": "2024-07-26T20:54:42.752407Z"
    }
   },
   "outputs": [],
   "source": [
    "def lssub(string,k):\n",
    "    sub=[]\n",
    "    n=len(string)\n",
    "    for i in range(n):\n",
    "        for j in range(i+1,n+1):\n",
    "            sub.append(string[i:j])\n",
    "    usub={}\n",
    "    for i in sub:\n",
    "        usub[i]=''.join(set(i))\n",
    "    flst=[]\n",
    "    for i in usub:\n",
    "        if len(usub[i])==k:\n",
    "            flst.append(i)\n",
    "    return max(flst, key=len)\n"
   ]
  },
  {
   "cell_type": "code",
   "execution_count": 5,
   "id": "e108051c",
   "metadata": {
    "ExecuteTime": {
     "end_time": "2024-07-26T20:54:43.012591Z",
     "start_time": "2024-07-26T20:54:42.985936Z"
    }
   },
   "outputs": [
    {
     "data": {
      "text/plain": [
       "'bcb'"
      ]
     },
     "execution_count": 5,
     "metadata": {},
     "output_type": "execute_result"
    }
   ],
   "source": [
    "lssub('abcba',2)"
   ]
  },
  {
   "cell_type": "code",
   "execution_count": null,
   "id": "5269737b",
   "metadata": {},
   "outputs": [],
   "source": []
  }
 ],
 "metadata": {
  "kernelspec": {
   "display_name": "Python 3 (ipykernel)",
   "language": "python",
   "name": "python3"
  },
  "language_info": {
   "codemirror_mode": {
    "name": "ipython",
    "version": 3
   },
   "file_extension": ".py",
   "mimetype": "text/x-python",
   "name": "python",
   "nbconvert_exporter": "python",
   "pygments_lexer": "ipython3",
   "version": "3.12.4"
  }
 },
 "nbformat": 4,
 "nbformat_minor": 5
}
