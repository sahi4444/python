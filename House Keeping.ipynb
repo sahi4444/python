{
 "cells": [
  {
   "cell_type": "code",
   "execution_count": 1,
   "id": "712ad10e",
   "metadata": {},
   "outputs": [],
   "source": [
    "from notebook.auth import passwd"
   ]
  },
  {
   "cell_type": "code",
   "execution_count": 2,
   "id": "b56f23c7",
   "metadata": {},
   "outputs": [
    {
     "name": "stdout",
     "output_type": "stream",
     "text": [
      "Enter password: ········\n",
      "Verify password: ········\n"
     ]
    },
    {
     "data": {
      "text/plain": [
       "'argon2:$argon2id$v=19$m=10240,t=10,p=8$Z7qebrLlqOzFjSHdEzTakg$9occ7p9EY7SEXxfZdV5BUqCxKZeoYw65VLgPNF5m4/M'"
      ]
     },
     "execution_count": 2,
     "metadata": {},
     "output_type": "execute_result"
    }
   ],
   "source": [
    "passwd()"
   ]
  },
  {
   "cell_type": "code",
   "execution_count": 1,
   "id": "b6d572c6",
   "metadata": {},
   "outputs": [
    {
     "name": "stdout",
     "output_type": "stream",
     "text": [
      "D:\\\n"
     ]
    }
   ],
   "source": [
    "cd D:"
   ]
  },
  {
   "cell_type": "code",
   "execution_count": 2,
   "id": "be2b6f87",
   "metadata": {},
   "outputs": [
    {
     "name": "stdout",
     "output_type": "stream",
     "text": [
      " Volume in drive D is New Volume\n",
      " Volume Serial Number is F4FF-D36B\n",
      "\n",
      " Directory of D:\\\n",
      "\n",
      "21-04-2023  13:32    <DIR>          1. Rush Rewards\n",
      "18-04-2023  11:00    <DIR>          2. GIT\n",
      "21-04-2023  15:51    <DIR>          3. CDC\n",
      "19-04-2023  21:38    <DIR>          4. Upgrade\n",
      "05-04-2023  16:23             7,026 campaign_targeted_users_2023_04_21.schema\n",
      "27-03-2023  22:00            10,447 CDC_PIPE_2023_04_21.py\n",
      "19-04-2023  22:14    <DIR>          Data Science\n",
      "18-04-2023  11:00    <DIR>          Data Stuff\n",
      "20-04-2023  20:24            20,748 fill_rate_model_25mins_prod.py\n",
      "24-04-2023  12:35    <DIR>          MGR\n",
      "21-04-2023  15:40    <DIR>          Old Work\n",
      "19-03-2023  18:25    <DIR>          Personal\n",
      "20-04-2023  12:39            24,226 platform_2023_04_21.yaml\n",
      "30-11-2022  14:42    <DIR>          Program Files\n",
      "19-09-2022  15:19    <DIR>          Program Files (x86)\n",
      "19-03-2023  17:53    <DIR>          python-pip\n",
      "21-04-2023  13:20           105,608 s3_platform_prod_2023_04_21.yaml\n",
      "20-04-2023  11:53             8,830 SF Data Required.xlsx\n",
      "14-03-2023  12:00    <DIR>          snowflake_odbc\n",
      "09-03-2023  15:44    <DIR>          Software\n",
      "               6 File(s)        176,885 bytes\n",
      "              14 Dir(s)  271,074,484,224 bytes free\n"
     ]
    }
   ],
   "source": [
    "ls"
   ]
  },
  {
   "cell_type": "code",
   "execution_count": 1,
   "id": "25344402",
   "metadata": {},
   "outputs": [
    {
     "name": "stdout",
     "output_type": "stream",
     "text": [
      "Note: you may need to restart the kernel to use updated packages.\n"
     ]
    },
    {
     "name": "stderr",
     "output_type": "stream",
     "text": [
      "ERROR: Could not find a version that satisfies the requirement notebook.services.config (from versions: none)\n",
      "ERROR: No matching distribution found for notebook.services.config\n"
     ]
    }
   ],
   "source": [
    "pip install notebook.services.config"
   ]
  },
  {
   "cell_type": "code",
   "execution_count": 2,
   "id": "2ce50605",
   "metadata": {},
   "outputs": [],
   "source": [
    "from notebook.services.config import ConfigManager"
   ]
  },
  {
   "cell_type": "code",
   "execution_count": 3,
   "id": "4a3addbf",
   "metadata": {},
   "outputs": [
    {
     "data": {
      "text/plain": [
       "{'ExecuteTime': {'display_absolute_timestamps': False,\n",
       "  'relative_timing_update_period': 5,\n",
       "  'template': {'executed': 'started ${start_time}, finished in ${duration}'}}}"
      ]
     },
     "execution_count": 3,
     "metadata": {},
     "output_type": "execute_result"
    }
   ],
   "source": [
    "ConfigManager().update('notebook', {'ExecuteTime': {\n",
    "    'display_absolute_timestamps': False,\n",
    "    'relative_timing_update_period': 5,\n",
    "    'template': {\n",
    "        'executed': 'started ${start_time}, finished in ${duration}',\n",
    "    }\n",
    "}})"
   ]
  },
  {
   "cell_type": "code",
   "execution_count": 1,
   "id": "931d79c6",
   "metadata": {},
   "outputs": [
    {
     "name": "stdout",
     "output_type": "stream",
     "text": [
      "Collecting jupyter_contrib_nbextensions\n",
      "  Downloading jupyter_contrib_nbextensions-0.7.0.tar.gz (23.5 MB)\n",
      "Requirement already satisfied: ipython_genutils in c:\\users\\sahitya.reddy\\anaconda3\\lib\\site-packages (from jupyter_contrib_nbextensions) (0.2.0)\n",
      "Collecting jupyter_contrib_core>=0.3.3\n",
      "  Downloading jupyter_contrib_core-0.4.2.tar.gz (17 kB)\n",
      "Requirement already satisfied: jupyter_core in c:\\users\\sahitya.reddy\\anaconda3\\lib\\site-packages (from jupyter_contrib_nbextensions) (4.9.2)\n",
      "Collecting jupyter_highlight_selected_word>=0.1.1\n",
      "  Downloading jupyter_highlight_selected_word-0.2.0-py2.py3-none-any.whl (11 kB)\n",
      "Collecting jupyter_nbextensions_configurator>=0.4.0\n",
      "  Downloading jupyter_nbextensions_configurator-0.6.3-py2.py3-none-any.whl (466 kB)\n",
      "Requirement already satisfied: nbconvert>=6.0 in c:\\users\\sahitya.reddy\\anaconda3\\lib\\site-packages (from jupyter_contrib_nbextensions) (6.4.4)\n",
      "Requirement already satisfied: notebook>=6.0 in c:\\users\\sahitya.reddy\\anaconda3\\lib\\site-packages (from jupyter_contrib_nbextensions) (6.4.8)\n",
      "Requirement already satisfied: tornado in c:\\users\\sahitya.reddy\\anaconda3\\lib\\site-packages (from jupyter_contrib_nbextensions) (6.1)\n",
      "Requirement already satisfied: traitlets>=4.1 in c:\\users\\sahitya.reddy\\anaconda3\\lib\\site-packages (from jupyter_contrib_nbextensions) (5.1.1)\n",
      "Requirement already satisfied: lxml in c:\\users\\sahitya.reddy\\anaconda3\\lib\\site-packages (from jupyter_contrib_nbextensions) (4.8.0)\n",
      "Requirement already satisfied: setuptools in c:\\users\\sahitya.reddy\\anaconda3\\lib\\site-packages (from jupyter_contrib_core>=0.3.3->jupyter_contrib_nbextensions) (61.2.0)\n",
      "Requirement already satisfied: pyyaml in c:\\users\\sahitya.reddy\\anaconda3\\lib\\site-packages (from jupyter_nbextensions_configurator>=0.4.0->jupyter_contrib_nbextensions) (6.0)\n",
      "Requirement already satisfied: entrypoints>=0.2.2 in c:\\users\\sahitya.reddy\\anaconda3\\lib\\site-packages (from nbconvert>=6.0->jupyter_contrib_nbextensions) (0.4)\n",
      "Requirement already satisfied: beautifulsoup4 in c:\\users\\sahitya.reddy\\anaconda3\\lib\\site-packages (from nbconvert>=6.0->jupyter_contrib_nbextensions) (4.11.1)\n",
      "Requirement already satisfied: nbclient<0.6.0,>=0.5.0 in c:\\users\\sahitya.reddy\\anaconda3\\lib\\site-packages (from nbconvert>=6.0->jupyter_contrib_nbextensions) (0.5.13)\n",
      "Requirement already satisfied: jupyterlab-pygments in c:\\users\\sahitya.reddy\\anaconda3\\lib\\site-packages (from nbconvert>=6.0->jupyter_contrib_nbextensions) (0.1.2)\n",
      "Requirement already satisfied: mistune<2,>=0.8.1 in c:\\users\\sahitya.reddy\\anaconda3\\lib\\site-packages (from nbconvert>=6.0->jupyter_contrib_nbextensions) (0.8.4)\n",
      "Requirement already satisfied: bleach in c:\\users\\sahitya.reddy\\anaconda3\\lib\\site-packages (from nbconvert>=6.0->jupyter_contrib_nbextensions) (4.1.0)\n",
      "Requirement already satisfied: nbformat>=4.4 in c:\\users\\sahitya.reddy\\anaconda3\\lib\\site-packages (from nbconvert>=6.0->jupyter_contrib_nbextensions) (5.3.0)\n",
      "Requirement already satisfied: testpath in c:\\users\\sahitya.reddy\\anaconda3\\lib\\site-packages (from nbconvert>=6.0->jupyter_contrib_nbextensions) (0.5.0)\n",
      "Requirement already satisfied: pygments>=2.4.1 in c:\\users\\sahitya.reddy\\anaconda3\\lib\\site-packages (from nbconvert>=6.0->jupyter_contrib_nbextensions) (2.11.2)\n",
      "Requirement already satisfied: defusedxml in c:\\users\\sahitya.reddy\\anaconda3\\lib\\site-packages (from nbconvert>=6.0->jupyter_contrib_nbextensions) (0.7.1)\n",
      "Requirement already satisfied: pandocfilters>=1.4.1 in c:\\users\\sahitya.reddy\\anaconda3\\lib\\site-packages (from nbconvert>=6.0->jupyter_contrib_nbextensions) (1.5.0)\n",
      "Requirement already satisfied: jinja2>=2.4 in c:\\users\\sahitya.reddy\\anaconda3\\lib\\site-packages (from nbconvert>=6.0->jupyter_contrib_nbextensions) (2.11.3)\n",
      "Requirement already satisfied: MarkupSafe>=0.23 in c:\\users\\sahitya.reddy\\anaconda3\\lib\\site-packages (from jinja2>=2.4->nbconvert>=6.0->jupyter_contrib_nbextensions) (2.0.1)\n",
      "Requirement already satisfied: jupyter-client>=6.1.5 in c:\\users\\sahitya.reddy\\anaconda3\\lib\\site-packages (from nbclient<0.6.0,>=0.5.0->nbconvert>=6.0->jupyter_contrib_nbextensions) (6.1.12)\n",
      "Requirement already satisfied: nest-asyncio in c:\\users\\sahitya.reddy\\anaconda3\\lib\\site-packages (from nbclient<0.6.0,>=0.5.0->nbconvert>=6.0->jupyter_contrib_nbextensions) (1.5.5)\n",
      "Requirement already satisfied: python-dateutil>=2.1 in c:\\users\\sahitya.reddy\\anaconda3\\lib\\site-packages (from jupyter-client>=6.1.5->nbclient<0.6.0,>=0.5.0->nbconvert>=6.0->jupyter_contrib_nbextensions) (2.8.2)\n",
      "Requirement already satisfied: pyzmq>=13 in c:\\users\\sahitya.reddy\\anaconda3\\lib\\site-packages (from jupyter-client>=6.1.5->nbclient<0.6.0,>=0.5.0->nbconvert>=6.0->jupyter_contrib_nbextensions) (22.3.0)\n",
      "Requirement already satisfied: pywin32>=1.0 in c:\\users\\sahitya.reddy\\anaconda3\\lib\\site-packages (from jupyter_core->jupyter_contrib_nbextensions) (302)\n",
      "Requirement already satisfied: jsonschema>=2.6 in c:\\users\\sahitya.reddy\\anaconda3\\lib\\site-packages (from nbformat>=4.4->nbconvert>=6.0->jupyter_contrib_nbextensions) (4.4.0)\n",
      "Requirement already satisfied: fastjsonschema in c:\\users\\sahitya.reddy\\anaconda3\\lib\\site-packages (from nbformat>=4.4->nbconvert>=6.0->jupyter_contrib_nbextensions) (2.15.1)\n",
      "Requirement already satisfied: pyrsistent!=0.17.0,!=0.17.1,!=0.17.2,>=0.14.0 in c:\\users\\sahitya.reddy\\anaconda3\\lib\\site-packages (from jsonschema>=2.6->nbformat>=4.4->nbconvert>=6.0->jupyter_contrib_nbextensions) (0.18.0)\n",
      "Requirement already satisfied: attrs>=17.4.0 in c:\\users\\sahitya.reddy\\anaconda3\\lib\\site-packages (from jsonschema>=2.6->nbformat>=4.4->nbconvert>=6.0->jupyter_contrib_nbextensions) (21.4.0)\n",
      "Requirement already satisfied: argon2-cffi in c:\\users\\sahitya.reddy\\anaconda3\\lib\\site-packages (from notebook>=6.0->jupyter_contrib_nbextensions) (21.3.0)\n",
      "Requirement already satisfied: Send2Trash>=1.8.0 in c:\\users\\sahitya.reddy\\anaconda3\\lib\\site-packages (from notebook>=6.0->jupyter_contrib_nbextensions) (1.8.0)\n",
      "Requirement already satisfied: terminado>=0.8.3 in c:\\users\\sahitya.reddy\\anaconda3\\lib\\site-packages (from notebook>=6.0->jupyter_contrib_nbextensions) (0.13.1)\n",
      "Requirement already satisfied: prometheus-client in c:\\users\\sahitya.reddy\\anaconda3\\lib\\site-packages (from notebook>=6.0->jupyter_contrib_nbextensions) (0.13.1)\n",
      "Requirement already satisfied: ipykernel in c:\\users\\sahitya.reddy\\anaconda3\\lib\\site-packages (from notebook>=6.0->jupyter_contrib_nbextensions) (6.9.1)\n",
      "Requirement already satisfied: six>=1.5 in c:\\users\\sahitya.reddy\\anaconda3\\lib\\site-packages (from python-dateutil>=2.1->jupyter-client>=6.1.5->nbclient<0.6.0,>=0.5.0->nbconvert>=6.0->jupyter_contrib_nbextensions) (1.16.0)\n",
      "Requirement already satisfied: pywinpty>=1.1.0 in c:\\users\\sahitya.reddy\\anaconda3\\lib\\site-packages (from terminado>=0.8.3->notebook>=6.0->jupyter_contrib_nbextensions) (2.0.2)\n",
      "Requirement already satisfied: argon2-cffi-bindings in c:\\users\\sahitya.reddy\\anaconda3\\lib\\site-packages (from argon2-cffi->notebook>=6.0->jupyter_contrib_nbextensions) (21.2.0)\n",
      "Requirement already satisfied: cffi>=1.0.1 in c:\\users\\sahitya.reddy\\anaconda3\\lib\\site-packages (from argon2-cffi-bindings->argon2-cffi->notebook>=6.0->jupyter_contrib_nbextensions) (1.15.0)\n",
      "Requirement already satisfied: pycparser in c:\\users\\sahitya.reddy\\anaconda3\\lib\\site-packages (from cffi>=1.0.1->argon2-cffi-bindings->argon2-cffi->notebook>=6.0->jupyter_contrib_nbextensions) (2.21)\n",
      "Requirement already satisfied: soupsieve>1.2 in c:\\users\\sahitya.reddy\\anaconda3\\lib\\site-packages (from beautifulsoup4->nbconvert>=6.0->jupyter_contrib_nbextensions) (2.3.1)\n",
      "Requirement already satisfied: webencodings in c:\\users\\sahitya.reddy\\anaconda3\\lib\\site-packages (from bleach->nbconvert>=6.0->jupyter_contrib_nbextensions) (0.5.1)\n",
      "Requirement already satisfied: packaging in c:\\users\\sahitya.reddy\\anaconda3\\lib\\site-packages (from bleach->nbconvert>=6.0->jupyter_contrib_nbextensions) (21.3)\n",
      "Requirement already satisfied: debugpy<2.0,>=1.0.0 in c:\\users\\sahitya.reddy\\anaconda3\\lib\\site-packages (from ipykernel->notebook>=6.0->jupyter_contrib_nbextensions) (1.5.1)\n",
      "Requirement already satisfied: matplotlib-inline<0.2.0,>=0.1.0 in c:\\users\\sahitya.reddy\\anaconda3\\lib\\site-packages (from ipykernel->notebook>=6.0->jupyter_contrib_nbextensions) (0.1.2)\n",
      "Requirement already satisfied: ipython>=7.23.1 in c:\\users\\sahitya.reddy\\anaconda3\\lib\\site-packages (from ipykernel->notebook>=6.0->jupyter_contrib_nbextensions) (8.2.0)\n",
      "Requirement already satisfied: colorama in c:\\users\\sahitya.reddy\\anaconda3\\lib\\site-packages (from ipython>=7.23.1->ipykernel->notebook>=6.0->jupyter_contrib_nbextensions) (0.4.4)\n",
      "Requirement already satisfied: pickleshare in c:\\users\\sahitya.reddy\\anaconda3\\lib\\site-packages (from ipython>=7.23.1->ipykernel->notebook>=6.0->jupyter_contrib_nbextensions) (0.7.5)\n",
      "Requirement already satisfied: prompt-toolkit!=3.0.0,!=3.0.1,<3.1.0,>=2.0.0 in c:\\users\\sahitya.reddy\\anaconda3\\lib\\site-packages (from ipython>=7.23.1->ipykernel->notebook>=6.0->jupyter_contrib_nbextensions) (3.0.20)\n",
      "Requirement already satisfied: backcall in c:\\users\\sahitya.reddy\\anaconda3\\lib\\site-packages (from ipython>=7.23.1->ipykernel->notebook>=6.0->jupyter_contrib_nbextensions) (0.2.0)\n",
      "Requirement already satisfied: stack-data in c:\\users\\sahitya.reddy\\anaconda3\\lib\\site-packages (from ipython>=7.23.1->ipykernel->notebook>=6.0->jupyter_contrib_nbextensions) (0.2.0)\n",
      "Requirement already satisfied: decorator in c:\\users\\sahitya.reddy\\anaconda3\\lib\\site-packages (from ipython>=7.23.1->ipykernel->notebook>=6.0->jupyter_contrib_nbextensions) (5.1.1)\n",
      "Requirement already satisfied: jedi>=0.16 in c:\\users\\sahitya.reddy\\anaconda3\\lib\\site-packages (from ipython>=7.23.1->ipykernel->notebook>=6.0->jupyter_contrib_nbextensions) (0.18.1)\n",
      "Requirement already satisfied: parso<0.9.0,>=0.8.0 in c:\\users\\sahitya.reddy\\anaconda3\\lib\\site-packages (from jedi>=0.16->ipython>=7.23.1->ipykernel->notebook>=6.0->jupyter_contrib_nbextensions) (0.8.3)\n",
      "Requirement already satisfied: wcwidth in c:\\users\\sahitya.reddy\\anaconda3\\lib\\site-packages (from prompt-toolkit!=3.0.0,!=3.0.1,<3.1.0,>=2.0.0->ipython>=7.23.1->ipykernel->notebook>=6.0->jupyter_contrib_nbextensions) (0.2.5)\n",
      "Requirement already satisfied: pyparsing!=3.0.5,>=2.0.2 in c:\\users\\sahitya.reddy\\anaconda3\\lib\\site-packages (from packaging->bleach->nbconvert>=6.0->jupyter_contrib_nbextensions) (3.0.4)\n",
      "Requirement already satisfied: executing in c:\\users\\sahitya.reddy\\anaconda3\\lib\\site-packages (from stack-data->ipython>=7.23.1->ipykernel->notebook>=6.0->jupyter_contrib_nbextensions) (0.8.3)\n",
      "Requirement already satisfied: pure-eval in c:\\users\\sahitya.reddy\\anaconda3\\lib\\site-packages (from stack-data->ipython>=7.23.1->ipykernel->notebook>=6.0->jupyter_contrib_nbextensions) (0.2.2)\n",
      "Requirement already satisfied: asttokens in c:\\users\\sahitya.reddy\\anaconda3\\lib\\site-packages (from stack-data->ipython>=7.23.1->ipykernel->notebook>=6.0->jupyter_contrib_nbextensions) (2.0.5)\n",
      "Building wheels for collected packages: jupyter-contrib-nbextensions, jupyter-contrib-core\n",
      "  Building wheel for jupyter-contrib-nbextensions (setup.py): started\n",
      "  Building wheel for jupyter-contrib-nbextensions (setup.py): finished with status 'done'\n",
      "  Created wheel for jupyter-contrib-nbextensions: filename=jupyter_contrib_nbextensions-0.7.0-py2.py3-none-any.whl size=23428786 sha256=c06149a99ee61c8658cf365bc0daa08a0671bd0f2e784e0e28f257759bb25073\n",
      "  Stored in directory: c:\\users\\sahitya.reddy\\appdata\\local\\pip\\cache\\wheels\\e7\\99\\91\\7f24a075786a6760f3ac32ab5fa92e1d1a90e0d2cd8958adfd\n",
      "  Building wheel for jupyter-contrib-core (setup.py): started\n",
      "  Building wheel for jupyter-contrib-core (setup.py): finished with status 'done'\n",
      "  Created wheel for jupyter-contrib-core: filename=jupyter_contrib_core-0.4.2-py2.py3-none-any.whl size=17484 sha256=bbae29295a8d0f343bc123932d99ab0dd97a2209a23201078fa4e2165f860616\n",
      "  Stored in directory: c:\\users\\sahitya.reddy\\appdata\\local\\pip\\cache\\wheels\\57\\9f\\80\\32c07b8a950a45f6cf8cd5980c22a27ce514c27b795250e497\n",
      "Successfully built jupyter-contrib-nbextensions jupyter-contrib-core\n",
      "Installing collected packages: jupyter-contrib-core, jupyter-nbextensions-configurator, jupyter-highlight-selected-word, jupyter-contrib-nbextensions\n",
      "Successfully installed jupyter-contrib-core-0.4.2 jupyter-contrib-nbextensions-0.7.0 jupyter-highlight-selected-word-0.2.0 jupyter-nbextensions-configurator-0.6.3\n",
      "Note: you may need to restart the kernel to use updated packages.\n"
     ]
    }
   ],
   "source": [
    "pip install jupyter_contrib_nbextensions"
   ]
  },
  {
   "cell_type": "code",
   "execution_count": 2,
   "id": "27d329b5",
   "metadata": {},
   "outputs": [
    {
     "name": "stdout",
     "output_type": "stream",
     "text": [
      "Requirement already satisfied: nbformat in c:\\users\\sahitya.reddy\\anaconda3\\lib\\site-packages (5.3.0)\n",
      "Requirement already satisfied: fastjsonschema in c:\\users\\sahitya.reddy\\anaconda3\\lib\\site-packages (from nbformat) (2.15.1)\n",
      "Requirement already satisfied: jsonschema>=2.6 in c:\\users\\sahitya.reddy\\anaconda3\\lib\\site-packages (from nbformat) (4.4.0)\n",
      "Requirement already satisfied: jupyter-core in c:\\users\\sahitya.reddy\\anaconda3\\lib\\site-packages (from nbformat) (4.9.2)\n",
      "Requirement already satisfied: traitlets>=4.1 in c:\\users\\sahitya.reddy\\anaconda3\\lib\\site-packages (from nbformat) (5.1.1)\n",
      "Requirement already satisfied: pyrsistent!=0.17.0,!=0.17.1,!=0.17.2,>=0.14.0 in c:\\users\\sahitya.reddy\\anaconda3\\lib\\site-packages (from jsonschema>=2.6->nbformat) (0.18.0)\n",
      "Requirement already satisfied: attrs>=17.4.0 in c:\\users\\sahitya.reddy\\anaconda3\\lib\\site-packages (from jsonschema>=2.6->nbformat) (21.4.0)\n",
      "Requirement already satisfied: pywin32>=1.0 in c:\\users\\sahitya.reddy\\anaconda3\\lib\\site-packages (from jupyter-core->nbformat) (302)\n",
      "Note: you may need to restart the kernel to use updated packages.\n"
     ]
    }
   ],
   "source": [
    "pip install nbformat"
   ]
  },
  {
   "cell_type": "code",
   "execution_count": 1,
   "id": "8180ccb9",
   "metadata": {},
   "outputs": [
    {
     "data": {
      "text/plain": [
       "{'ExecuteTime': {'display_absolute_timestamps': False,\n",
       "  'relative_timing_update_period': 5,\n",
       "  'template': {'executed': 'started ${start_time}, finished in ${duration}'}}}"
      ]
     },
     "execution_count": 1,
     "metadata": {},
     "output_type": "execute_result"
    }
   ],
   "source": [
    "from notebook.services.config import ConfigManager\n",
    "ConfigManager().update('notebook', {'ExecuteTime': {\n",
    "    'display_absolute_timestamps': False,\n",
    "    'relative_timing_update_period': 5,\n",
    "    'template': {\n",
    "        'executed': 'started ${start_time}, finished in ${duration}',\n",
    "    }\n",
    "}})"
   ]
  },
  {
   "cell_type": "code",
   "execution_count": null,
   "id": "fbf021ee",
   "metadata": {},
   "outputs": [],
   "source": []
  }
 ],
 "metadata": {
  "kernelspec": {
   "display_name": "Python 3 (ipykernel)",
   "language": "python",
   "name": "python3"
  },
  "language_info": {
   "codemirror_mode": {
    "name": "ipython",
    "version": 3
   },
   "file_extension": ".py",
   "mimetype": "text/x-python",
   "name": "python",
   "nbconvert_exporter": "python",
   "pygments_lexer": "ipython3",
   "version": "3.9.12"
  }
 },
 "nbformat": 4,
 "nbformat_minor": 5
}
