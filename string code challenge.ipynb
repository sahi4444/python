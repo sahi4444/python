{
 "cells": [
  {
   "cell_type": "markdown",
   "id": "2cf319cb",
   "metadata": {},
   "source": [
    "Given an integer k and a string s, find the length of the longest substring that contains at most k distinct characters.\n",
    "\n",
    "For example, given s = \"abcba\" and k = 2, the longest substring with k distinct characters is \"bcb\"."
   ]
  },
  {
   "cell_type": "code",
   "execution_count": 37,
   "id": "f9a7d9e1",
   "metadata": {
    "ExecuteTime": {
     "end_time": "2024-07-26T20:54:31.225529Z",
     "start_time": "2024-07-26T20:54:31.214538Z"
    }
   },
   "outputs": [],
   "source": [
    "def lssub(string,k):\n",
    "    sub=[]\n",
    "    n=len(string)\n",
    "    for i in range(n):\n",
    "        for j in range(i+1,n+1):\n",
    "            sub.append(string[i:j])\n",
    "    usub={}\n",
    "    for i in sub:\n",
    "        usub[i]=''.join(set(i))\n",
    "    flst=[]\n",
    "    for i in usub:\n",
    "        if len(usub[i])==k:\n",
    "            flst.append(i)\n",
    "    return max(flst, key=len)"
   ]
  },
  {
   "cell_type": "code",
   "execution_count": 38,
   "id": "b7390b2d",
   "metadata": {
    "ExecuteTime": {
     "end_time": "2024-07-26T20:54:31.539405Z",
     "start_time": "2024-07-26T20:54:31.527137Z"
    }
   },
   "outputs": [
    {
     "data": {
      "text/plain": [
       "'bcb'"
      ]
     },
     "execution_count": 38,
     "metadata": {},
     "output_type": "execute_result"
    }
   ],
   "source": [
    "lssub('abcba',2)"
   ]
  },
  {
   "cell_type": "code",
   "execution_count": 16,
   "id": "191788df",
   "metadata": {
    "ExecuteTime": {
     "end_time": "2024-07-26T20:46:39.041252Z",
     "start_time": "2024-07-26T20:46:39.017085Z"
    }
   },
   "outputs": [
    {
     "name": "stdout",
     "output_type": "stream",
     "text": [
      "a a\n",
      "ab ab\n",
      "abc acb\n",
      "abcb acb\n",
      "abcba acb\n",
      "b b\n",
      "bc cb\n",
      "bcb cb\n",
      "bcba acb\n",
      "c c\n",
      "cb cb\n",
      "cba acb\n",
      "ba ab\n"
     ]
    }
   ],
   "source": [
    "for i in e:\n",
    "    print(i,e[i])"
   ]
  },
  {
   "cell_type": "code",
   "execution_count": 2,
   "id": "4e8a02c6",
   "metadata": {},
   "outputs": [],
   "source": [
    "def length_of_longest_substring_k_distinct(s: str, k: int) -> int:\n",
    "    if k == 0:\n",
    "        return 0\n",
    "\n",
    "    n = len(s)\n",
    "    if n == 0:\n",
    "        return 0\n",
    "    \n",
    "    start = 0\n",
    "    max_length = 0\n",
    "    char_count = {}\n",
    "    \n",
    "    for end in range(n):\n",
    "        # Add current character to the window\n",
    "        char_count[s[end]] = char_count.get(s[end], 0) + 1\n",
    "        \n",
    "        # If more than k distinct characters, shrink the window\n",
    "        while len(char_count) > k:\n",
    "            char_count[s[start]] -= 1\n",
    "            if char_count[s[start]] == 0:\n",
    "                del char_count[s[start]]\n",
    "            start += 1\n",
    "        \n",
    "        # Update the max_length if the current window is larger\n",
    "        max_length = max(max_length, end - start + 1)\n",
    "    \n",
    "    return max_length"
   ]
  },
  {
   "cell_type": "code",
   "execution_count": 4,
   "id": "ee6007f3-dd4e-408e-bdb8-e8562e9b0fae",
   "metadata": {},
   "outputs": [
    {
     "data": {
      "text/plain": [
       "3"
      ]
     },
     "execution_count": 4,
     "metadata": {},
     "output_type": "execute_result"
    }
   ],
   "source": [
    "length_of_longest_substring_k_distinct('abcba',2)"
   ]
  },
  {
   "cell_type": "code",
   "execution_count": 34,
   "id": "3edcb083-70ba-4750-8347-e1c7c09699df",
   "metadata": {},
   "outputs": [],
   "source": [
    "def lsub(s,k):\n",
    "    start = 0\n",
    "    max_length = 0\n",
    "    max_start = 0\n",
    "    char_count = {}\n",
    "    n=len(s)\n",
    "    for i in range(n+1):\n",
    "        print(s[0:i])"
   ]
  },
  {
   "cell_type": "code",
   "execution_count": 36,
   "id": "392f4d96-2907-49b5-b7e8-4be3db24ff5e",
   "metadata": {},
   "outputs": [
    {
     "name": "stdout",
     "output_type": "stream",
     "text": [
      "\n",
      "a\n",
      "ab\n",
      "abc\n",
      "abcb\n",
      "abcba\n"
     ]
    }
   ],
   "source": [
    "lsub('abcba',2)"
   ]
  },
  {
   "cell_type": "markdown",
   "id": "9fbe985d-5de9-4372-b345-3c5230818d50",
   "metadata": {},
   "source": [
    "Imagine you have a box of toys and you want to find the longest line of toys where you only have up to a certain number of different types of toys. Here’s a simple way to do that:\n",
    "\n",
    "Explanation\n",
    "Toy Line: Think of the string of toys as a line of toys on a table. Each toy can be of a different type, like cars, dolls, or action figures.\n",
    "\n",
    "Two Windows:\n",
    "\n",
    "Imagine you have two hands. One hand will start from the beginning of the toy line (this is called start), and the other hand will move along the line (this is called end).\n",
    "Add Toys:\n",
    "\n",
    "As you move the end hand along the line of toys, you pick up each toy and keep track of what types of toys you have in a little notebook.\n",
    "Too Many Types:\n",
    "\n",
    "If you pick up too many different types of toys (more than allowed), you need to move the start hand to the right to get rid of some toys until you have the right number of types again.\n",
    "Keep Track of the Longest Line:\n",
    "\n",
    "Every time you have the right number of different types of toys, check how long the line of toys is. If this line is longer than any you’ve seen before, remember this length and where the line starts.\n",
    "Finish Up:\n",
    "\n",
    "When you’ve moved your end hand to the end of the line of toys, you know the longest line with the right number of different types of toys.\n",
    "Get the Line:\n",
    "\n",
    "Finally, look at the longest line you remembered and show it to everyone.\n",
    "Example\n",
    "Let’s say you have a toy line like this: ABACABB and you are allowed to have up to 2 different types of toys. Here’s how you’d find the longest line:\n",
    "\n",
    "Start at the beginning of the line and start picking up toys.\n",
    "As you pick toys, keep track of the different types you have.\n",
    "If you have more than 2 types of toys, start moving the starting hand to get rid of some toys until you are back to 2 types.\n",
    "Remember the longest line you can have with only 2 types of toys.\n",
    "At the end, show the longest line you found.\n",
    "So, if you follow these steps, you’ll find the longest section of toys where you only have up to the number of different types you’re allowed."
   ]
  },
  {
   "cell_type": "code",
   "execution_count": null,
   "id": "93cdff72-d2ee-447b-9819-b668cc3aa404",
   "metadata": {},
   "outputs": [],
   "source": []
  }
 ],
 "metadata": {
  "kernelspec": {
   "display_name": "Python 3 (ipykernel)",
   "language": "python",
   "name": "python3"
  },
  "language_info": {
   "codemirror_mode": {
    "name": "ipython",
    "version": 3
   },
   "file_extension": ".py",
   "mimetype": "text/x-python",
   "name": "python",
   "nbconvert_exporter": "python",
   "pygments_lexer": "ipython3",
   "version": "3.12.4"
  }
 },
 "nbformat": 4,
 "nbformat_minor": 5
}
