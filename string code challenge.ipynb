{
 "cells": [
  {
   "cell_type": "markdown",
   "id": "2cf319cb",
   "metadata": {},
   "source": [
    "Given an integer k and a string s, find the length of the longest substring that contains at most k distinct characters.\n",
    "\n",
    "For example, given s = \"abcba\" and k = 2, the longest substring with k distinct characters is \"bcb\"."
   ]
  },
  {
   "cell_type": "code",
   "execution_count": 37,
   "id": "f9a7d9e1",
   "metadata": {
    "ExecuteTime": {
     "end_time": "2024-07-26T20:54:31.225529Z",
     "start_time": "2024-07-26T20:54:31.214538Z"
    }
   },
   "outputs": [],
   "source": [
    "def lssub(string,k):\n",
    "    sub=[]\n",
    "    n=len(string)\n",
    "    for i in range(n):\n",
    "        for j in range(i+1,n+1):\n",
    "            sub.append(string[i:j])\n",
    "    usub={}\n",
    "    for i in sub:\n",
    "        usub[i]=''.join(set(i))\n",
    "    flst=[]\n",
    "    for i in usub:\n",
    "        if len(usub[i])==k:\n",
    "            flst.append(i)\n",
    "    return max(flst, key=len)"
   ]
  },
  {
   "cell_type": "code",
   "execution_count": 38,
   "id": "b7390b2d",
   "metadata": {
    "ExecuteTime": {
     "end_time": "2024-07-26T20:54:31.539405Z",
     "start_time": "2024-07-26T20:54:31.527137Z"
    }
   },
   "outputs": [
    {
     "data": {
      "text/plain": [
       "'bcb'"
      ]
     },
     "execution_count": 38,
     "metadata": {},
     "output_type": "execute_result"
    }
   ],
   "source": [
    "lssub('abcba',2)"
   ]
  },
  {
   "cell_type": "code",
   "execution_count": 16,
   "id": "191788df",
   "metadata": {
    "ExecuteTime": {
     "end_time": "2024-07-26T20:46:39.041252Z",
     "start_time": "2024-07-26T20:46:39.017085Z"
    }
   },
   "outputs": [
    {
     "name": "stdout",
     "output_type": "stream",
     "text": [
      "a a\n",
      "ab ab\n",
      "abc acb\n",
      "abcb acb\n",
      "abcba acb\n",
      "b b\n",
      "bc cb\n",
      "bcb cb\n",
      "bcba acb\n",
      "c c\n",
      "cb cb\n",
      "cba acb\n",
      "ba ab\n"
     ]
    }
   ],
   "source": [
    "for i in e:\n",
    "    print(i,e[i])"
   ]
  },
  {
   "cell_type": "code",
   "execution_count": null,
   "id": "4e8a02c6",
   "metadata": {},
   "outputs": [],
   "source": []
  }
 ],
 "metadata": {
  "kernelspec": {
   "display_name": "Python 3 (ipykernel)",
   "language": "python",
   "name": "python3"
  },
  "language_info": {
   "codemirror_mode": {
    "name": "ipython",
    "version": 3
   },
   "file_extension": ".py",
   "mimetype": "text/x-python",
   "name": "python",
   "nbconvert_exporter": "python",
   "pygments_lexer": "ipython3",
   "version": "3.9.12"
  }
 },
 "nbformat": 4,
 "nbformat_minor": 5
}
